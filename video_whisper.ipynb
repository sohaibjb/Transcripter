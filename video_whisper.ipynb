{
  "cells": [
    {
      "cell_type": "code",
      "source": [
        "# Installation des dépendances\n",
        "!pip install yt-dlp openai-whisper ffmpeg-python\n",
        "\n",
        "import os\n",
        "import yt_dlp\n",
        "import whisper\n",
        "\n",
        "def video_to_audio(video_URL, destination_folder=\".\", final_filename=\"audio\"):\n",
        "    \"\"\"Télécharge l'audio d'une vidéo YouTube et le sauvegarde au format mp3.\"\"\"\n",
        "\n",
        "    # Options pour yt-dlp\n",
        "    ydl_opts = {\n",
        "        'format': 'bestaudio/best',\n",
        "        'postprocessors': [{\n",
        "            'key': 'FFmpegExtractAudio',\n",
        "            'preferredcodec': 'mp3',\n",
        "            'preferredquality': '192',\n",
        "        }],\n",
        "        'outtmpl': os.path.join(destination_folder, final_filename),\n",
        "    }\n",
        "\n",
        "    # Téléchargement de l'audio\n",
        "    with yt_dlp.YoutubeDL(ydl_opts) as ydl:\n",
        "        ydl.download([video_URL])\n",
        "\n",
        "    return f\"{final_filename}.mp3\"\n",
        "\n",
        "def transcribe_audio(audio_file, model_size=\"base\"):\n",
        "    \"\"\"Transcrit un fichier audio en utilisant Whisper.\"\"\"\n",
        "\n",
        "    # Chargement du modèle Whisper\n",
        "    model = whisper.load_model(model_size)\n",
        "\n",
        "    # Transcription\n",
        "    result = model.transcribe(audio_file)\n",
        "\n",
        "    return result\n",
        "\n",
        "# Exemple d'utilisation\n",
        "video_URL = \"https://baugo.online/dashboard/course/kadin-ve-teknoloji/770\"\n",
        "destination = \".\"\n",
        "final_filename = \"motivational_speech\"\n",
        "\n",
        "# Téléchargement de l'audio\n",
        "audio_file = video_to_audio(video_URL, destination, final_filename)\n",
        "\n",
        "# Transcription\n",
        "result = transcribe_audio(audio_file)\n",
        "\n",
        "# Affichage du résultat\n",
        "print(\"Transcription:\")\n",
        "print(result[\"text\"])\n",
        "\n",
        "# Sauvegarde de la transcription dans un fichier\n",
        "with open(f\"{final_filename}.txt\", \"w\", encoding=\"utf-8\") as f:\n",
        "    f.write(result[\"text\"])\n",
        "\n",
        "# Création d'un fichier SRT (sous-titres)\n",
        "from whisper.utils import get_writer\n",
        "srt_writer = get_writer(\"srt\", \".\")\n",
        "srt_writer(result, f\"{final_filename}\")"
      ],
      "metadata": {
        "colab": {
          "base_uri": "https://localhost:8080/"
        },
        "id": "wFGNRF795AR0",
        "outputId": "08617b29-f2f5-4b78-d5a6-cec032c3e83e"
      },
      "execution_count": null,
      "outputs": [
        {
          "output_type": "stream",
          "name": "stdout",
          "text": [
            "Collecting yt-dlp\n",
            "  Downloading yt_dlp-2025.3.31-py3-none-any.whl.metadata (172 kB)\n",
            "\u001b[2K     \u001b[90m━━━━━━━━━━━━━━━━━━━━━━━━━━━━━━━━━━━━━━━\u001b[0m \u001b[32m172.2/172.2 kB\u001b[0m \u001b[31m3.5 MB/s\u001b[0m eta \u001b[36m0:00:00\u001b[0m\n",
            "\u001b[?25hRequirement already satisfied: openai-whisper in /usr/local/lib/python3.11/dist-packages (20240930)\n",
            "Collecting ffmpeg-python\n",
            "  Downloading ffmpeg_python-0.2.0-py3-none-any.whl.metadata (1.7 kB)\n",
            "Requirement already satisfied: more-itertools in /usr/local/lib/python3.11/dist-packages (from openai-whisper) (10.7.0)\n",
            "Requirement already satisfied: numba in /usr/local/lib/python3.11/dist-packages (from openai-whisper) (0.60.0)\n",
            "Requirement already satisfied: numpy in /usr/local/lib/python3.11/dist-packages (from openai-whisper) (2.0.2)\n",
            "Requirement already satisfied: tiktoken in /usr/local/lib/python3.11/dist-packages (from openai-whisper) (0.9.0)\n",
            "Requirement already satisfied: torch in /usr/local/lib/python3.11/dist-packages (from openai-whisper) (2.6.0+cu124)\n",
            "Requirement already satisfied: tqdm in /usr/local/lib/python3.11/dist-packages (from openai-whisper) (4.67.1)\n",
            "Requirement already satisfied: triton>=2 in /usr/local/lib/python3.11/dist-packages (from openai-whisper) (3.2.0)\n",
            "Requirement already satisfied: future in /usr/local/lib/python3.11/dist-packages (from ffmpeg-python) (1.0.0)\n",
            "Requirement already satisfied: llvmlite<0.44,>=0.43.0dev0 in /usr/local/lib/python3.11/dist-packages (from numba->openai-whisper) (0.43.0)\n",
            "Requirement already satisfied: regex>=2022.1.18 in /usr/local/lib/python3.11/dist-packages (from tiktoken->openai-whisper) (2024.11.6)\n",
            "Requirement already satisfied: requests>=2.26.0 in /usr/local/lib/python3.11/dist-packages (from tiktoken->openai-whisper) (2.32.3)\n",
            "Requirement already satisfied: filelock in /usr/local/lib/python3.11/dist-packages (from torch->openai-whisper) (3.18.0)\n",
            "Requirement already satisfied: typing-extensions>=4.10.0 in /usr/local/lib/python3.11/dist-packages (from torch->openai-whisper) (4.13.2)\n",
            "Requirement already satisfied: networkx in /usr/local/lib/python3.11/dist-packages (from torch->openai-whisper) (3.4.2)\n",
            "Requirement already satisfied: jinja2 in /usr/local/lib/python3.11/dist-packages (from torch->openai-whisper) (3.1.6)\n",
            "Requirement already satisfied: fsspec in /usr/local/lib/python3.11/dist-packages (from torch->openai-whisper) (2025.3.2)\n",
            "Requirement already satisfied: nvidia-cuda-nvrtc-cu12==12.4.127 in /usr/local/lib/python3.11/dist-packages (from torch->openai-whisper) (12.4.127)\n",
            "Requirement already satisfied: nvidia-cuda-runtime-cu12==12.4.127 in /usr/local/lib/python3.11/dist-packages (from torch->openai-whisper) (12.4.127)\n",
            "Requirement already satisfied: nvidia-cuda-cupti-cu12==12.4.127 in /usr/local/lib/python3.11/dist-packages (from torch->openai-whisper) (12.4.127)\n",
            "Requirement already satisfied: nvidia-cudnn-cu12==9.1.0.70 in /usr/local/lib/python3.11/dist-packages (from torch->openai-whisper) (9.1.0.70)\n",
            "Requirement already satisfied: nvidia-cublas-cu12==12.4.5.8 in /usr/local/lib/python3.11/dist-packages (from torch->openai-whisper) (12.4.5.8)\n",
            "Requirement already satisfied: nvidia-cufft-cu12==11.2.1.3 in /usr/local/lib/python3.11/dist-packages (from torch->openai-whisper) (11.2.1.3)\n",
            "Requirement already satisfied: nvidia-curand-cu12==10.3.5.147 in /usr/local/lib/python3.11/dist-packages (from torch->openai-whisper) (10.3.5.147)\n",
            "Requirement already satisfied: nvidia-cusolver-cu12==11.6.1.9 in /usr/local/lib/python3.11/dist-packages (from torch->openai-whisper) (11.6.1.9)\n",
            "Requirement already satisfied: nvidia-cusparse-cu12==12.3.1.170 in /usr/local/lib/python3.11/dist-packages (from torch->openai-whisper) (12.3.1.170)\n",
            "Requirement already satisfied: nvidia-cusparselt-cu12==0.6.2 in /usr/local/lib/python3.11/dist-packages (from torch->openai-whisper) (0.6.2)\n",
            "Requirement already satisfied: nvidia-nccl-cu12==2.21.5 in /usr/local/lib/python3.11/dist-packages (from torch->openai-whisper) (2.21.5)\n",
            "Requirement already satisfied: nvidia-nvtx-cu12==12.4.127 in /usr/local/lib/python3.11/dist-packages (from torch->openai-whisper) (12.4.127)\n",
            "Requirement already satisfied: nvidia-nvjitlink-cu12==12.4.127 in /usr/local/lib/python3.11/dist-packages (from torch->openai-whisper) (12.4.127)\n",
            "Requirement already satisfied: sympy==1.13.1 in /usr/local/lib/python3.11/dist-packages (from torch->openai-whisper) (1.13.1)\n",
            "Requirement already satisfied: mpmath<1.4,>=1.1.0 in /usr/local/lib/python3.11/dist-packages (from sympy==1.13.1->torch->openai-whisper) (1.3.0)\n",
            "Requirement already satisfied: charset-normalizer<4,>=2 in /usr/local/lib/python3.11/dist-packages (from requests>=2.26.0->tiktoken->openai-whisper) (3.4.1)\n",
            "Requirement already satisfied: idna<4,>=2.5 in /usr/local/lib/python3.11/dist-packages (from requests>=2.26.0->tiktoken->openai-whisper) (3.10)\n",
            "Requirement already satisfied: urllib3<3,>=1.21.1 in /usr/local/lib/python3.11/dist-packages (from requests>=2.26.0->tiktoken->openai-whisper) (2.4.0)\n",
            "Requirement already satisfied: certifi>=2017.4.17 in /usr/local/lib/python3.11/dist-packages (from requests>=2.26.0->tiktoken->openai-whisper) (2025.1.31)\n",
            "Requirement already satisfied: MarkupSafe>=2.0 in /usr/local/lib/python3.11/dist-packages (from jinja2->torch->openai-whisper) (3.0.2)\n",
            "Downloading yt_dlp-2025.3.31-py3-none-any.whl (3.2 MB)\n",
            "\u001b[2K   \u001b[90m━━━━━━━━━━━━━━━━━━━━━━━━━━━━━━━━━━━━━━━━\u001b[0m \u001b[32m3.2/3.2 MB\u001b[0m \u001b[31m45.1 MB/s\u001b[0m eta \u001b[36m0:00:00\u001b[0m\n",
            "\u001b[?25hDownloading ffmpeg_python-0.2.0-py3-none-any.whl (25 kB)\n",
            "Installing collected packages: yt-dlp, ffmpeg-python\n",
            "Successfully installed ffmpeg-python-0.2.0 yt-dlp-2025.3.31\n",
            "[youtube] Extracting URL: https://youtu.be/ELDa_MEGWNw?si=F2DYASncBItlJQ6M\n",
            "[youtube] ELDa_MEGWNw: Downloading webpage\n",
            "[youtube] ELDa_MEGWNw: Downloading tv client config\n",
            "[youtube] ELDa_MEGWNw: Downloading player 12b61286-main\n",
            "[youtube] ELDa_MEGWNw: Downloading tv player API JSON\n",
            "[youtube] ELDa_MEGWNw: Downloading ios player API JSON\n",
            "[youtube] ELDa_MEGWNw: Downloading m3u8 information\n",
            "[info] ELDa_MEGWNw: Downloading 1 format(s): 251\n",
            "[download] Destination: ./motivational_speech\n",
            "[download] 100% of    6.01MiB in 00:00:00 at 14.75MiB/s  \n",
            "[ExtractAudio] Destination: ./motivational_speech.mp3\n",
            "Deleting original file ./motivational_speech (pass -k to keep)\n"
          ]
        },
        {
          "output_type": "stream",
          "name": "stderr",
          "text": [
            "100%|███████████████████████████████████████| 139M/139M [00:02<00:00, 52.1MiB/s]\n"
          ]
        },
        {
          "output_type": "stream",
          "name": "stdout",
          "text": [
            "Transcription:\n",
            " As-Salamualaikum warahmatullahi wa barakatuh. This small notebook is the secret to memorizing like a scholar. Forget searching for the newest app or hack. If you apply the old methods of the scholars, you will memorize more in one year than most people do in ten. Let me show you how. First method is the notebook habit. Take a small notebook with you everywhere. Right inside it, the portions of tough seer. Hadith benefits from books. Important quotes. Beneficial poetry or anything you want to memorize. Every time you have a free moment, instead of picking up your phone, pick up your notebook. Read it, repeat it, close it, and try to recall it. Keep doing this until it becomes firm in your mind. This one habit alone can change your memory forever. Al-Ajizu Hakkanhu Wa Manyera Ad-Dur-Ral-Menthor Wa Al-Ali-El-Masnuwa Wa Sabaik-Ith-Zahab Bayajazu Anwad-Aihafi Al-Keshkul Wa Al-Muchla Wa Kenashat-Nawadir This means that the truly helpless person is the one who comes across treasures of knowledge, precious books and rare insights, but doesn't even bother to collect them in a simple notebook for himself. The real failure isn't the one who lacks resources. The real failure is the one who has the treasures of knowledge in front of him, but is too lazy, distracted, or disorganized to collect them, write them down, review them, preserve them for himself. Second method, repetition. Scholars of the past would repeat a line, 20, 50, 70, even 500 times until it entered the heart. Abu Masood used to repeat every hudrth 500 times. A man once said to him, I continuously forget the narrations that I have memorized. On you is to revise every single narration 500 times, said Abu Masood. Who was able to do that? Complain to the man. Abu Masood replied, and that is why you people are not able to memorize. Don't fear repetition. In fact, the more you repeat, the stronger your memorization becomes. If after 20 repetitions you are still weak, continue to 50, if after 100, continue to 200. True students of knowledge do not give up. Third method, the Moroccan method used across Africa. Students write what they want to memorize on wooden boards, stones, chalkboards, or white boards. When they memorize it, they wash it away and write new knowledge, writing forces the mind to be present. When you write, your hand, your eyes, your memory, and your heart are working together. You memorize consciously, not lazily. Fourth method, divide your knowledge into small portions. Don't overwhelm yourself by trying to memorize too much at once. Take small sections, one sentence, one paragraph, or one ayah bit by bit. This gives you a sense of achievement and builds momentum. Fifth method, understand what you memorize. For non-Arabic speakers, read the translation or interpretation. For everyone, always read the explanation along with the texts. When you understand, memorization becomes natural, not forced. You know what you are saying, and your heart connects to it. Know, O student of knowledge, that memorization is a treasure that many today have abandoned. Our scholars of the past would guard their memorization, like a merchant guards his most precious wealth. They knew that what enters the heart through memorization stays, while what passes through the tongue without it, fades. Others used to memorize thousands of texts, some even over a million like Imam Ahmad. But just as there are ways to strengthen memorization, there are also actions that kill it. They say, whoever seeks to discipline something must first know what corrupts it. For how can you guard your memorization if you do not know what weakens it? How can you cure a disease if you do not first recognize its cause? So what weakens and destroys memorization? A heart filled with sins, a tongue that is distracted by gossip and useless speech, eyes that wander into what does not concern them, wasting hours on devices and idle entertainment, laziness and postponing the memorization session, living a life of excessive comfort without discipline. I know that Imam al-Shafi may Allah have mercy upon him and all the imams. Once complained about this, he said, He said, He said, I complained to Waqee about the weakness of my memorization, so he guided me to abandon sins. He informed me that knowledge is a light and the light of Allah is not given to a sinner. So my dear sister, if you want your memorization to become easy, if you want knowledge to settle into your heart like rain upon fertile soil, then cleanse your heart from sins, cleanse your days from uselessness and busy your tongue with dicker, your mind with studying and your soul with sincerity. And please do not despair about the weakness of your memorization. For it starts weak, but with consistency and discipline, you will see your memorization getting stronger and more. We all started with one ayah, one sentence, one phrase, but I am speaking from experience, over time you'll memorize pages, so do not despair and rise my sister. May Allah make you among the carriers of beneficial knowledge. If you have benefited from this video, consider supporting me as I am a new creator here. Jazakum Allahu khairan. Fijanna insha Allah.\n"
          ]
        }
      ]
    }
  ],
  "metadata": {
    "accelerator": "GPU",
    "colab": {
      "provenance": []
    },
    "gpuClass": "standard",
    "kernelspec": {
      "display_name": "Python 3",
      "name": "python3"
    },
    "language_info": {
      "name": "python"
    }
  },
  "nbformat": 4,
  "nbformat_minor": 0
}